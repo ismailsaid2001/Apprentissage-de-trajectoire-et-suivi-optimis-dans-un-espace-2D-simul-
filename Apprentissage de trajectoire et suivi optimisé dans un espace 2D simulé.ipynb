{
  "cells": [
    {
      "cell_type": "markdown",
      "metadata": {
        "id": "W8TstzjUuwUq"
      },
      "source": [
        "## **1. Importing Necessary Libraries**\n",
        "\n",
        "\n",
        "\n",
        "\n",
        "\n"
      ]
    },
    {
      "cell_type": "code",
      "execution_count": null,
      "metadata": {
        "id": "8G48N_tUvjAl"
      },
      "outputs": [],
      "source": [
        "import numpy as np\n",
        "import matplotlib.pyplot as plt\n",
        "import torch.optim as optim\n",
        "import random\n",
        "import pandas as pd\n",
        "import torch\n",
        "import torch.nn as nn"
      ]
    },
    {
      "cell_type": "markdown",
      "metadata": {
        "id": "2UdQENEQvD-m"
      },
      "source": [
        "## **2. Definition des propriétés relatives au volant de badminton**"
      ]
    },
    {
      "cell_type": "code",
      "execution_count": null,
      "metadata": {
        "id": "4XwxDOmlv3EL"
      },
      "outputs": [],
      "source": [
        "# Constantes\n",
        "g = 9.81  # gravité (m/s^2)\n",
        "air_density = 1.2  # densité de l'air (kg/m^3)\n",
        "drag_coefficient = 0.5  # coefficient de traînée\n",
        "cross_sectional_area = 0.00363  # surface de section transversale (m^2)\n",
        "m = 0.005  # masse du volant (kg)"
      ]
    },
    {
      "cell_type": "markdown",
      "metadata": {
        "id": "uXEr5sA7vd_H"
      },
      "source": [
        "\n",
        "𝑔\n",
        "=\n",
        "9\n",
        ",\n",
        "81\n",
        "g=9,81 : C'est l'accélération due à la gravité sur Terre, exprimée en mètres par seconde carrée (\n",
        "m/s\n",
        "2\n",
        "m/s\n",
        "2\n",
        " ). Elle exerce une force vers le bas sur le volant.\n",
        "\n",
        "𝑚\n",
        "=\n",
        "0\n",
        ",\n",
        "005\n",
        "m=0,005 : La masse du volant, en kilogrammes (\n",
        "kg\n",
        "kg). Cette valeur est essentielle pour calculer son impulsion et son interaction avec des forces comme la gravité et la traînée.\n",
        "\n",
        "𝐶\n",
        "𝑑\n",
        "=\n",
        "0\n",
        ",\n",
        "5\n",
        "C\n",
        "d\n",
        "​\n",
        " =0,5 : Le coefficient de traînée. Il représente l'aérodynamisme du volant dans l'air. Une valeur de 0,5 indique un objet relativement peu aérodynamique, typique d'un volant de badminton.\n",
        "\n",
        "𝐴\n",
        "=\n",
        "0\n",
        ",\n",
        "003\n",
        "A=0,00363 : La surface de section transversale du volant, exprimée en mètres carrés (\n",
        "m\n",
        "2\n",
        "m\n",
        "2\n",
        " ). Cette surface est utilisée pour calculer la force de traînée subie par le volant lorsqu'il se déplace dans l'air."
      ]
    },
    {
      "cell_type": "markdown",
      "source": [
        "## **3. simulation de la data**"
      ],
      "metadata": {
        "id": "EgtjmVZ1gows"
      }
    },
    {
      "cell_type": "code",
      "source": [
        "# === Étape 1 : Génération des données (Trajectoire simulée du volant) ===\n",
        "def generate_shuttlecock_data(num_samples=1000, noise_std=0.01):\n",
        "    \"\"\"\n",
        "    Génère des données synthétiques 2D pour la trajectoire du volant basées sur les équations physiques.\n",
        "    :param num_samples: Nombre d'échantillons à générer.\n",
        "    :param noise_std: Écart type du bruit à ajouter.\n",
        "    :return: temps et données (contenant les positions x et y en fonction du temps).\n",
        "    \"\"\"\n",
        "    # Conditions initiales\n",
        "    v0 = 30.0  # vitesse initiale (m/s)\n",
        "    angle = np.radians(40)  # angle de lancement (converti de degrés en radians)\n",
        "    vx0 = v0 * np.cos(angle)  # vitesse initiale dans la direction x\n",
        "    vy0 = v0 * np.sin(angle)  # vitesse initiale dans la direction y\n",
        "\n",
        "    # Tableau de temps\n",
        "    t = np.linspace(0, 2.5, num_samples)  # simulation sur 2,5 secondes\n",
        "    dt = t[1] - t[0]  # intervalle de temps entre les échantillons\n",
        "\n",
        "    # Initialisation des positions et vitesses\n",
        "    x = np.zeros_like(t)\n",
        "    y = np.zeros_like(t)\n",
        "    vx = vx0\n",
        "    vy = vy0\n",
        "\n",
        "    for i in range(1, len(t)):\n",
        "        # Calcul de la force de traînée\n",
        "        v = np.sqrt(vx**2 + vy**2)  # vitesse totale\n",
        "        drag_force = 0.5 * air_density * drag_coefficient * cross_sectional_area * v**2\n",
        "        drag_acceleration = drag_force / m  # accélération due à la traînée\n",
        "\n",
        "        # Mise à jour des vitesses\n",
        "        vx -= drag_acceleration * (vx / v) * dt\n",
        "        vy -= (g + drag_acceleration * (vy / v)) * dt\n",
        "\n",
        "        # Mise à jour des positions\n",
        "        x[i] = x[i - 1] + vx * dt\n",
        "        y[i] = y[i - 1] + vy * dt\n",
        "\n",
        "        # Arrêt de la simulation si le volant touche le sol\n",
        "        if y[i] < 0:\n",
        "            x = x[:i]\n",
        "            y = y[:i]\n",
        "            t = t[:i]\n",
        "            break\n",
        "\n",
        "    # Ajout de bruit\n",
        "    x += np.random.normal(0, noise_std, size=x.shape)\n",
        "    y += np.random.normal(0, noise_std, size=y.shape)\n",
        "\n",
        "    # Combinaison de x et y dans un tableau unique\n",
        "    data = np.stack((x, y), axis=1)\n",
        "\n",
        "    return t, data\n",
        "\n",
        "# Génération des données\n",
        "time, data = generate_shuttlecock_data()\n"
      ],
      "metadata": {
        "id": "hvzu-g7wNi_7"
      },
      "execution_count": null,
      "outputs": []
    },
    {
      "cell_type": "code",
      "source": [
        "# Visualize data\n",
        "plt.figure(figsize=(10, 5))\n",
        "plt.plot(data[:, 0], data[:, 1], label=\"Trajectory\")\n",
        "plt.xlabel(\"X Position (m)\")\n",
        "plt.ylabel(\"Y Position (m)\")\n",
        "plt.title(\"Simulated Shuttlecock Trajectory\")\n",
        "plt.legend()\n",
        "plt.show()"
      ],
      "metadata": {
        "colab": {
          "base_uri": "https://localhost:8080/",
          "height": 487
        },
        "id": "HIrzKfz0NmpD",
        "outputId": "ccc916a8-2456-434b-f89a-0e5c644ed728"
      },
      "execution_count": null,
      "outputs": [
        {
          "output_type": "display_data",
          "data": {
            "text/plain": [
              "<Figure size 1000x500 with 1 Axes>"
            ],
            "image/png": "[encoded data removed]"
          },
          "metadata": {}
        }
      ]
    },
    {
      "cell_type": "markdown",
      "metadata": {
        "id": "JRJifk67v6X7"
      },
      "source": [
        "obtenir les tensors à utiliser pour l'entraiment du modele"
      ]
    },
    {
      "cell_type": "code",
      "execution_count": null,
      "metadata": {
        "id": "9sqseKJ3wJrJ"
      },
      "outputs": [],
      "source": [
        "# Simulated trajectory\n",
        "outputs_train = torch.tensor(data, dtype=torch.float32)  # The corresponding data\n",
        "\n",
        "t_train = torch.tensor(time, dtype=torch.float32).view(-1, 1)"
      ]
    },
    {
      "cell_type": "markdown",
      "metadata": {
        "id": "wQ8FiUFOwLJI"
      },
      "source": [
        "## **4. First trial : Define PiNN Model**"
      ]
    },
    {
      "cell_type": "code",
      "execution_count": 226,
      "metadata": {
        "id": "T-Bj4LiDwRwi"
      },
      "outputs": [],
      "source": [
        "# Define PiNN model with one hidden layer\n",
        "class ShuttlecockPiNN(nn.Module):\n",
        "    def __init__(self):\n",
        "        super(ShuttlecockPiNN, self).__init__()\n",
        "        self.hidden = nn.Sequential(\n",
        "            nn.Linear(1, 256),  # Single hidden layer with 256 neurons\n",
        "            nn.Sigmoid(),\n",
        "            nn.Linear(256, 4)  # Outputs: x, y, v_x, v_y\n",
        "        )\n",
        "        self.C = 0.5  # Drag coefficient\n",
        "\n",
        "    def forward(self, t):\n",
        "        return self.hidden(t)\n",
        "\n",
        "    def compute_ux(self, x_in):\n",
        "        # Compute Jacobian for the input x_in\n",
        "        return torch.autograd.functional.jacobian(self, x_in, create_graph=True)\n",
        "\n",
        "    def compute_physics_loss(self, t, outputs):\n",
        "        x, y, v_x, v_y = outputs[:, 0], outputs[:, 1], outputs[:, 2], outputs[:, 3]\n",
        "\n",
        "        # Compute derivatives using autograd\n",
        "        v_pred = torch.sqrt(v_x**2 + v_y**2)  # Speed magnitude\n",
        "        ax = torch.autograd.grad(v_x.sum(), t, create_graph=True)[0]\n",
        "        ay = torch.autograd.grad(v_y.sum(), t, create_graph=True)[0]\n",
        "\n",
        "        # Physics constraints: Drag and gravity forces\n",
        "        fx = -self.C * v_pred * v_x\n",
        "        fy = -g - self.C * v_pred * v_y\n",
        "\n",
        "        # Physics loss (difference between predicted and calculated physics)\n",
        "        physics_loss = torch.mean((ax - fx) ** 2 + (ay - fy) ** 2)\n",
        "        return physics_loss\n",
        "\n",
        "    def compute_total_loss(self, t, outputs, targets, lambda_reg=1.0):\n",
        "        # Compute data loss and physics-informed regularization\n",
        "        data_loss = torch.mean((outputs[:, :2] - targets) ** 2)\n",
        "        physics_loss = self.compute_physics_loss(t, outputs)\n",
        "        return data_loss+physics_loss\n",
        "\n",
        "\n",
        "# Instantiate the model\n",
        "model = ShuttlecockPiNN()"
      ]
    },
    {
      "cell_type": "code",
      "source": [
        "torch.mean((predictions[:, :2] - outputs_train) ** 2)"
      ],
      "metadata": {
        "colab": {
          "base_uri": "https://localhost:8080/"
        },
        "id": "iV_ZiW-ToPR8",
        "outputId": "59c61d7a-ee16-4039-babd-48724665e453"
      },
      "execution_count": null,
      "outputs": [
        {
          "output_type": "execute_result",
          "data": {
            "text/plain": [
              "tensor(0.0120, grad_fn=<MeanBackward0>)"
            ]
          },
          "metadata": {},
          "execution_count": 136
        }
      ]
    },
    {
      "cell_type": "code",
      "execution_count": 227,
      "metadata": {
        "id": "SrEVOm2rwkuW"
      },
      "outputs": [],
      "source": [
        "optimizer = optim.Adam(model.parameters(), lr=1e-3)"
      ]
    },
    {
      "cell_type": "code",
      "source": [
        "outputs_train"
      ],
      "metadata": {
        "colab": {
          "base_uri": "https://localhost:8080/"
        },
        "id": "Y52Vrh2_ukif",
        "outputId": "cf4a2da1-eb9b-4e31-c5e4-0428e7fedc78"
      },
      "execution_count": 228,
      "outputs": [
        {
          "output_type": "execute_result",
          "data": {
            "text/plain": [
              "tensor([[ 7.6641e-01, -5.0101e-03],\n",
              "        [-2.4506e+00, -7.5109e-01],\n",
              "        [-5.1909e-01,  1.2348e+00],\n",
              "        [ 1.2618e+00, -1.1214e+00],\n",
              "        [ 1.0305e+00, -1.6281e-01],\n",
              "        [-3.0733e-01,  1.7745e+00],\n",
              "        [ 9.7062e-01,  1.1755e+00],\n",
              "        [-4.6941e-01, -1.1199e-01],\n",
              "        [-5.1958e-01, -1.6682e+00],\n",
              "        [-1.6222e-01, -3.2481e-01],\n",
              "        [-8.6987e-01, -2.7236e-01],\n",
              "        [ 3.7012e-01, -9.6989e-01],\n",
              "        [-1.2672e+00,  5.2779e-01],\n",
              "        [ 4.5495e-01,  3.2885e-01],\n",
              "        [-4.4648e-01, -2.6216e+00],\n",
              "        [ 5.2139e-01,  4.6720e-01],\n",
              "        [ 5.8657e-01, -6.8636e-01],\n",
              "        [-4.9322e-01,  1.2119e+00],\n",
              "        [-9.6876e-01, -8.9275e-01],\n",
              "        [-9.9390e-01,  3.6879e-01],\n",
              "        [ 1.0731e+00, -6.2473e-01],\n",
              "        [ 8.4139e-02, -8.9635e-01],\n",
              "        [ 1.3111e+00,  2.2350e-01],\n",
              "        [-8.4247e-02,  7.8714e-01],\n",
              "        [ 4.7135e-01, -5.6156e-02],\n",
              "        [ 5.1980e-01, -1.1210e+00],\n",
              "        [-5.1200e-01, -5.9469e-01],\n",
              "        [ 4.9121e-01, -1.0761e+00],\n",
              "        [ 6.2226e-01,  9.8300e-01],\n",
              "        [ 7.3267e-01,  4.1530e-01],\n",
              "        [ 8.9958e-01,  1.7805e+00],\n",
              "        [-1.5230e+00, -4.7450e-01],\n",
              "        [-8.0874e-01,  2.5085e-01],\n",
              "        [ 1.3199e+00, -1.0409e+00],\n",
              "        [ 1.5952e+00,  1.5173e+00],\n",
              "        [ 1.6944e-01,  7.7714e-01],\n",
              "        [ 4.2455e-01,  5.7081e-01],\n",
              "        [-3.7395e-01, -9.1312e-02],\n",
              "        [-2.1923e-01,  1.2068e+00],\n",
              "        [ 1.3863e+00,  1.1896e-01],\n",
              "        [ 1.1954e+00, -1.1215e-01],\n",
              "        [-2.4779e-01, -2.8739e-01],\n",
              "        [ 1.8285e+00,  2.8382e-01],\n",
              "        [ 3.1454e-01, -2.4958e-02],\n",
              "        [-7.7152e-02, -2.0999e+00],\n",
              "        [ 2.3056e+00, -4.0550e-01],\n",
              "        [ 4.0170e-01, -9.9692e-01],\n",
              "        [ 1.2412e+00,  2.8145e-01],\n",
              "        [ 6.3669e-01, -1.1161e+00],\n",
              "        [ 4.5483e-01,  8.3195e-01],\n",
              "        [-7.2974e-01, -3.5718e-01],\n",
              "        [-3.7958e-01,  6.4021e-01],\n",
              "        [ 4.9031e-01,  3.6518e-01],\n",
              "        [-5.3448e-01,  1.3025e+00],\n",
              "        [-6.2969e-01,  1.2594e+00],\n",
              "        [-1.9002e-01,  8.5804e-01],\n",
              "        [-9.3915e-01,  1.0887e+00],\n",
              "        [-4.0834e-02, -6.6343e-01],\n",
              "        [ 3.5842e-02, -8.4865e-01],\n",
              "        [ 1.4065e+00, -6.0158e-01],\n",
              "        [-3.2672e-01, -1.1728e+00],\n",
              "        [ 1.5450e+00, -2.7916e-01],\n",
              "        [-5.2151e-01, -1.2266e+00],\n",
              "        [-1.9478e+00,  1.7523e+00],\n",
              "        [ 1.8392e+00,  7.6175e-01],\n",
              "        [ 1.5708e+00,  9.7756e-01],\n",
              "        [-1.0966e+00,  1.3549e-01],\n",
              "        [-4.4026e-01,  8.0328e-01],\n",
              "        [ 6.3938e-01, -6.7693e-01],\n",
              "        [-3.5684e-01,  1.0104e+00],\n",
              "        [ 4.5692e-01,  6.2388e-01],\n",
              "        [-3.2163e-01, -3.0226e-01],\n",
              "        [ 1.4016e+00, -1.1021e+00],\n",
              "        [ 1.4423e+00, -1.6301e-01],\n",
              "        [ 4.3660e-02,  6.1858e-01],\n",
              "        [ 8.2731e-01,  4.4237e-01],\n",
              "        [ 5.3424e-01, -2.0300e-01],\n",
              "        [-4.6342e-01, -9.2210e-02],\n",
              "        [-7.4811e-01, -2.0853e-01],\n",
              "        [-8.1347e-01, -1.0749e-01],\n",
              "        [-1.6724e-01,  2.2191e-03],\n",
              "        [-1.5331e+00,  4.2324e-01],\n",
              "        [-1.9235e-01,  8.5392e-01],\n",
              "        [ 3.0345e-01, -8.3764e-01],\n",
              "        [-6.6364e-01,  8.6242e-02],\n",
              "        [-2.6577e-01, -1.9012e+00],\n",
              "        [ 1.5730e+00, -3.6856e-01],\n",
              "        [ 7.9852e-01, -1.3858e-01],\n",
              "        [ 1.5204e+00,  3.2586e-01],\n",
              "        [-1.6554e+00,  2.9055e-01],\n",
              "        [-2.8952e-01,  5.2922e-01],\n",
              "        [-4.1986e-01, -3.3019e-01],\n",
              "        [-1.0449e-01,  2.2907e+00],\n",
              "        [-1.3087e+00,  8.8718e-01],\n",
              "        [-1.1026e+00, -3.2438e-01],\n",
              "        [ 1.4267e-01,  7.2056e-01],\n",
              "        [-1.1766e-01, -1.9560e+00],\n",
              "        [ 2.4657e-01,  3.9131e-01],\n",
              "        [-4.2312e-01, -7.5331e-01],\n",
              "        [ 6.9977e-01,  9.9582e-01]])"
            ]
          },
          "metadata": {},
          "execution_count": 228
        }
      ]
    },
    {
      "cell_type": "markdown",
      "metadata": {
        "id": "vXsyBAN5whcP"
      },
      "source": [
        "## **5.Training Loop**"
      ]
    },
    {
      "cell_type": "code",
      "execution_count": 229,
      "metadata": {
        "colab": {
          "base_uri": "https://localhost:8080/",
          "height": 1000
        },
        "id": "RM0jFIOnwobh",
        "outputId": "ccf72aef-a940-4c5f-a41f-28889ad40284",
        "collapsed": true
      },
      "outputs": [
        {
          "output_type": "stream",
          "name": "stdout",
          "text": [
            "Epoch 0, Loss: 99.45299530029297\n",
            "Epoch 100, Loss: 0.848916232585907\n",
            "Epoch 200, Loss: 0.8237370848655701\n",
            "Epoch 300, Loss: 0.823516309261322\n",
            "Epoch 400, Loss: 0.8232983946800232\n",
            "Epoch 500, Loss: 0.8230903148651123\n",
            "Epoch 600, Loss: 0.8228919506072998\n",
            "Epoch 700, Loss: 0.822701632976532\n",
            "Epoch 800, Loss: 0.8225166201591492\n",
            "Epoch 900, Loss: 0.8223342299461365\n",
            "Epoch 1000, Loss: 0.8221524357795715\n",
            "Epoch 1100, Loss: 0.8219698071479797\n",
            "Epoch 1200, Loss: 0.8217855095863342\n",
            "Epoch 1300, Loss: 0.8215989470481873\n",
            "Epoch 1400, Loss: 0.8214093446731567\n",
            "Epoch 1500, Loss: 0.8212160468101501\n",
            "Epoch 1600, Loss: 0.8210179209709167\n",
            "Epoch 1700, Loss: 0.8208131790161133\n",
            "Epoch 1800, Loss: 0.8205999135971069\n",
            "Epoch 1900, Loss: 0.8203798532485962\n",
            "Epoch 2000, Loss: 0.820160984992981\n",
            "Epoch 2100, Loss: 0.819927990436554\n",
            "Epoch 2200, Loss: 0.8196864724159241\n",
            "Epoch 2300, Loss: 0.8194217085838318\n",
            "Epoch 2400, Loss: 0.8191345930099487\n",
            "Epoch 2500, Loss: 0.8188158869743347\n",
            "Epoch 2600, Loss: 0.8184704780578613\n",
            "Epoch 2700, Loss: 0.8180740475654602\n",
            "Epoch 2800, Loss: 0.8176372051239014\n",
            "Epoch 2900, Loss: 0.8171547651290894\n",
            "Epoch 3000, Loss: 0.8166110515594482\n",
            "Epoch 3100, Loss: 0.816032350063324\n",
            "Epoch 3200, Loss: 0.8154233694076538\n",
            "Epoch 3300, Loss: 0.8148046135902405\n",
            "Epoch 3400, Loss: 0.8141884803771973\n",
            "Epoch 3500, Loss: 0.8136190176010132\n",
            "Epoch 3600, Loss: 0.8131076097488403\n",
            "Epoch 3700, Loss: 0.8126685619354248\n",
            "Epoch 3800, Loss: 0.8123042583465576\n",
            "Epoch 3900, Loss: 0.8120092153549194\n"
          ]
        },
        {
          "output_type": "display_data",
          "data": {
            "text/plain": [
              "<Figure size 640x480 with 1 Axes>"
            ],
            "image/png": "[encoded data removed]"
          },
          "metadata": {}
        }
      ],
      "source": [
        "import matplotlib.pyplot as plt\n",
        "\n",
        "# Variables pour stocker l'historique des pertes\n",
        "loss_history = []\n",
        "\n",
        "# Training loop\n",
        "epochs = 4000\n",
        "for epoch in range(epochs):\n",
        "    optimizer.zero_grad()\n",
        "    t_train.requires_grad = True  # Enable gradient computation for time\n",
        "    predictions = model(t_train)\n",
        "    loss = model.compute_total_loss(t_train, predictions, outputs_train)\n",
        "    loss.backward()\n",
        "    optimizer.step()\n",
        "\n",
        "    # Sauvegarde de la perte pour chaque époque\n",
        "    loss_history.append(loss.item())\n",
        "\n",
        "    if epoch % 100 == 0:\n",
        "        print(f\"Epoch {epoch}, Loss: {loss.item()}\")\n",
        "\n",
        "# Plotting the learning curve\n",
        "plt.plot(range(epochs), loss_history, label='Loss')\n",
        "plt.xlabel('Epochs')\n",
        "plt.ylabel('Loss')\n",
        "plt.title('Learning Curve')\n",
        "plt.legend()\n",
        "plt.grid(True)\n",
        "plt.show()\n"
      ]
    },
    {
      "cell_type": "code",
      "source": [
        "predictions[:, :2]"
      ],
      "metadata": {
        "colab": {
          "base_uri": "https://localhost:8080/"
        },
        "id": "I9kbWsmOlU9z",
        "outputId": "15c9b067-5164-4d5d-f212-234cb5523729"
      },
      "execution_count": 194,
      "outputs": [
        {
          "output_type": "execute_result",
          "data": {
            "text/plain": [
              "tensor([[0.6147, 0.6165],\n",
              "        [0.6411, 0.6358],\n",
              "        [0.6675, 0.6551],\n",
              "        ...,\n",
              "        [9.0546, 0.3491],\n",
              "        [9.0599, 0.3396],\n",
              "        [9.0651, 0.3302]], grad_fn=<SliceBackward0>)"
            ]
          },
          "metadata": {},
          "execution_count": 194
        }
      ]
    },
    {
      "cell_type": "code",
      "source": [
        "outputs_train"
      ],
      "metadata": {
        "colab": {
          "base_uri": "https://localhost:8080/"
        },
        "id": "u-sNSgZFlXKO",
        "outputId": "50afafea-0af4-4e65-c3a7-4a2b17d4a481"
      },
      "execution_count": null,
      "outputs": [
        {
          "output_type": "execute_result",
          "data": {
            "text/plain": [
              "tensor([[ 2.3342e-03,  2.8503e-03],\n",
              "        [ 6.7253e-02,  5.6833e-02],\n",
              "        [ 1.2589e-01,  9.8890e-02],\n",
              "        ...,\n",
              "        [ 9.0038e+00,  3.3165e-02],\n",
              "        [ 9.0156e+00,  2.2564e-02],\n",
              "        [ 9.0210e+00, -2.4383e-04]])"
            ]
          },
          "metadata": {},
          "execution_count": 140
        }
      ]
    },
    {
      "cell_type": "code",
      "source": [
        "from torchsummary import summary\n",
        "\n",
        "# Print summary of the model\n",
        "summary(model, input_size=(1,))  # The input is a single feature (1,)"
      ],
      "metadata": {
        "colab": {
          "base_uri": "https://localhost:8080/"
        },
        "id": "8d1tg121rAlS",
        "outputId": "abe3dc39-0665-48a8-8783-42a74d00b484"
      },
      "execution_count": null,
      "outputs": [
        {
          "output_type": "stream",
          "name": "stdout",
          "text": [
            "----------------------------------------------------------------\n",
            "        Layer (type)               Output Shape         Param #\n",
            "================================================================\n",
            "            Linear-1                  [-1, 256]             512\n",
            "           Sigmoid-2                  [-1, 256]               0\n",
            "            Linear-3                    [-1, 4]           1,028\n",
            "================================================================\n",
            "Total params: 1,540\n",
            "Trainable params: 1,540\n",
            "Non-trainable params: 0\n",
            "----------------------------------------------------------------\n",
            "Input size (MB): 0.00\n",
            "Forward/backward pass size (MB): 0.00\n",
            "Params size (MB): 0.01\n",
            "Estimated Total Size (MB): 0.01\n",
            "----------------------------------------------------------------\n"
          ]
        }
      ]
    },
    {
      "cell_type": "markdown",
      "metadata": {
        "id": "-OH9EqVWw9la"
      },
      "source": [
        "## **6.Visualization of True vs Predicted Shuttlecock Trajectory**"
      ]
    },
    {
      "cell_type": "code",
      "execution_count": null,
      "metadata": {
        "colab": {
          "base_uri": "https://localhost:8080/",
          "height": 564
        },
        "id": "mJwGaGZEwrm_",
        "outputId": "6ed33327-5f55-4b5b-87d4-0e3afb2da8e4"
      },
      "outputs": [
        {
          "output_type": "display_data",
          "data": {
            "text/plain": [
              "<Figure size 1000x600 with 1 Axes>"
            ],
            "image/png": "[encoded data removed]"
          },
          "metadata": {}
        }
      ],
      "source": [
        "# Visualize results\n",
        "predicted = model(t_train).detach().numpy()\n",
        "plt.figure(figsize=(10, 6))\n",
        "plt.plot(data[:, 0], data[:, 1], label=\"True Trajectory\", linestyle='dotted', color='red')\n",
        "plt.plot(predicted[:, 0], predicted[:, 1], label=\"Predicted Trajectory\", linestyle='solid', color='blue')\n",
        "plt.xlabel(\"Horizontal Distance (x) [m]\")\n",
        "plt.ylabel(\"Vertical Distance (y) [m]\")\n",
        "plt.title(\"True vs Predicted Shuttlecock Trajectory\")\n",
        "plt.legend()\n",
        "plt.grid()\n",
        "plt.show()\n"
      ]
    },
    {
      "cell_type": "markdown",
      "source": [
        "1 ère Optimisation: cross validation (avec kFold) et grid search sur le nombre de nuerones,la fonction d'ativation et le learning rate)"
      ],
      "metadata": {
        "id": "DeqfPcFBzBR3"
      }
    },
    {
      "cell_type": "code",
      "source": [
        "!pip install optuna"
      ],
      "metadata": {
        "colab": {
          "base_uri": "https://localhost:8080/"
        },
        "collapsed": true,
        "id": "_MaHr5zLyBYi",
        "outputId": "178d4147-fc80-4408-90a0-d96bb5372793"
      },
      "execution_count": null,
      "outputs": [
        {
          "output_type": "stream",
          "name": "stdout",
          "text": [
            "Collecting optuna\n",
            "  Downloading optuna-4.2.0-py3-none-any.whl.metadata (17 kB)\n",
            "Collecting alembic>=1.5.0 (from optuna)\n",
            "  Downloading alembic-1.14.1-py3-none-any.whl.metadata (7.4 kB)\n",
            "Collecting colorlog (from optuna)\n",
            "  Downloading colorlog-6.9.0-py3-none-any.whl.metadata (10 kB)\n",
            "Requirement already satisfied: numpy in /usr/local/lib/python3.11/dist-packages (from optuna) (1.26.4)\n",
            "Requirement already satisfied: packaging>=20.0 in /usr/local/lib/python3.11/dist-packages (from optuna) (24.2)\n",
            "Requirement already satisfied: sqlalchemy>=1.4.2 in /usr/local/lib/python3.11/dist-packages (from optuna) (2.0.37)\n",
            "Requirement already satisfied: tqdm in /usr/local/lib/python3.11/dist-packages (from optuna) (4.67.1)\n",
            "Requirement already satisfied: PyYAML in /usr/local/lib/python3.11/dist-packages (from optuna) (6.0.2)\n",
            "Collecting Mako (from alembic>=1.5.0->optuna)\n",
            "  Downloading Mako-1.3.8-py3-none-any.whl.metadata (2.9 kB)\n",
            "Requirement already satisfied: typing-extensions>=4 in /usr/local/lib/python3.11/dist-packages (from alembic>=1.5.0->optuna) (4.12.2)\n",
            "Requirement already satisfied: greenlet!=0.4.17 in /usr/local/lib/python3.11/dist-packages (from sqlalchemy>=1.4.2->optuna) (3.1.1)\n",
            "Requirement already satisfied: MarkupSafe>=0.9.2 in /usr/local/lib/python3.11/dist-packages (from Mako->alembic>=1.5.0->optuna) (3.0.2)\n",
            "Downloading optuna-4.2.0-py3-none-any.whl (383 kB)\n",
            "\u001b[2K   \u001b[90m━━━━━━━━━━━━━━━━━━━━━━━━━━━━━━━━━━━━━━━━\u001b[0m \u001b[32m383.4/383.4 kB\u001b[0m \u001b[31m27.2 MB/s\u001b[0m eta \u001b[36m0:00:00\u001b[0m\n",
            "\u001b[?25hDownloading alembic-1.14.1-py3-none-any.whl (233 kB)\n",
            "\u001b[2K   \u001b[90m━━━━━━━━━━━━━━━━━━━━━━━━━━━━━━━━━━━━━━━━\u001b[0m \u001b[32m233.6/233.6 kB\u001b[0m \u001b[31m18.8 MB/s\u001b[0m eta \u001b[36m0:00:00\u001b[0m\n",
            "\u001b[?25hDownloading colorlog-6.9.0-py3-none-any.whl (11 kB)\n",
            "Downloading Mako-1.3.8-py3-none-any.whl (78 kB)\n",
            "\u001b[2K   \u001b[90m━━━━━━━━━━━━━━━━━━━━━━━━━━━━━━━━━━━━━━━━\u001b[0m \u001b[32m78.6/78.6 kB\u001b[0m \u001b[31m7.1 MB/s\u001b[0m eta \u001b[36m0:00:00\u001b[0m\n",
            "\u001b[?25hInstalling collected packages: Mako, colorlog, alembic, optuna\n",
            "Successfully installed Mako-1.3.8 alembic-1.14.1 colorlog-6.9.0 optuna-4.2.0\n"
          ]
        }
      ]
    },
    {
      "cell_type": "code",
      "source": [
        "import optuna\n",
        "import torch\n",
        "import torch.optim as optim\n",
        "import torch.nn as nn\n",
        "from sklearn.model_selection import KFold\n",
        "import numpy as np\n",
        "\n",
        "# Define the Optuna objective function with cross-validation\n",
        "def objective(trial):\n",
        "    # Hyperparameters to tune\n",
        "    num_neurons = trial.suggest_categorical('num_neurons', [128, 256, 512])  # Number of neurons in the hidden layer\n",
        "    learning_rate = trial.suggest_loguniform('learning_rate', 1e-5, 1e-4)  # Learning rate\n",
        "    activation_fn = trial.suggest_categorical('activation_fn', ['ReLU', 'Tanh', 'Sigmoid'])  # Activation function choice\n",
        "\n",
        "    # Define the model with 1 hidden layer\n",
        "    class CustomShuttlecockPiNN(nn.Module):\n",
        "        def __init__(self, activation_fn):\n",
        "            super(CustomShuttlecockPiNN, self).__init__()\n",
        "            layers = []\n",
        "            layers.append(nn.Linear(1, num_neurons))  # First layer (input -> hidden)\n",
        "\n",
        "            # Choose activation function based on tuning\n",
        "            if activation_fn == 'ReLU':\n",
        "                layers.append(nn.ReLU())  # ReLU activation\n",
        "            elif activation_fn == 'Tanh':\n",
        "                layers.append(nn.Tanh())  # Tanh activation\n",
        "            elif activation_fn == 'Sigmoid':\n",
        "                layers.append(nn.Sigmoid())  # Sigmoid activation\n",
        "\n",
        "            layers.append(nn.Linear(num_neurons, 4))  # Output layer (hidden -> output)\n",
        "            self.hidden = nn.Sequential(*layers)\n",
        "            self.C = 0.5  # Drag coefficient\n",
        "\n",
        "        def forward(self, t):\n",
        "            t.requires_grad_()  # Ensure t requires gradients\n",
        "            return self.hidden(t)\n",
        "\n",
        "        def compute_physics_loss(self, t, outputs):\n",
        "            t.requires_grad_()  # Ensure t requires gradients\n",
        "            x, y, v_x, v_y = outputs[:, 0], outputs[:, 1], outputs[:, 2], outputs[:, 3]\n",
        "            v_pred = torch.sqrt(v_x**2 + v_y**2)  # Compute speed\n",
        "            ax = torch.autograd.grad(v_x.sum(), t, create_graph=True)[0]  # Ensure we can compute gradients w.r.t. t\n",
        "            ay = torch.autograd.grad(v_y.sum(), t, create_graph=True)[0]  # Same for ay\n",
        "            g = 9.81  # Gravity constant (m/s²)\n",
        "            fx = -self.C * v_pred * v_x  # Drag force in x-direction\n",
        "            fy = -g - self.C * v_pred * v_y  # Drag force in y-direction\n",
        "            physics_loss = torch.mean((ax - fx) ** 2 + (ay - fy) ** 2)\n",
        "            return physics_loss\n",
        "\n",
        "        def compute_total_loss(self, t, outputs, targets, lambda_reg=1.0):\n",
        "            t.requires_grad_()  # Ensure t requires gradients\n",
        "            # Compute data loss and physics-informed regularization\n",
        "            data_loss = torch.mean((outputs[:, :2] - targets) ** 2)  # Loss for x and y\n",
        "            physics_loss = self.compute_physics_loss(t, outputs)  # Physics-informed loss\n",
        "            return data_loss+physics_loss\n",
        "\n",
        "    # Assume `t_train` and `outputs_train` are already defined and properly set\n",
        "    t_train = torch.randn(100, 1)  # Example random data (replace with actual training data)\n",
        "    outputs_train = torch.randn(100, 2)  # Example random targets (replace with actual targets)\n",
        "\n",
        "    # Set requires_grad for inputs\n",
        "    t_train.requires_grad_()  # Ensure t_train requires gradients\n",
        "\n",
        "    kfold = KFold(n_splits=5, shuffle=True)  # 5-fold cross-validation\n",
        "    total_loss = 0  # To store the average loss across folds\n",
        "\n",
        "    for train_idx, val_idx in kfold.split(t_train):\n",
        "        # Split data into training and validation sets for each fold\n",
        "        t_train_fold, t_val_fold = t_train[train_idx], t_train[val_idx]\n",
        "        outputs_train_fold, outputs_val_fold = outputs_train[train_idx], outputs_train[val_idx]\n",
        "\n",
        "        # Instantiate the model with the chosen activation function\n",
        "        model = CustomShuttlecockPiNN(activation_fn)\n",
        "\n",
        "        # Define optimizer\n",
        "        optimizer = optim.Adam(model.parameters(), lr=learning_rate)\n",
        "\n",
        "        # Training loop\n",
        "        epochs = 1000  # Number of epochs for each fold\n",
        "        for epoch in range(epochs):\n",
        "            optimizer.zero_grad()\n",
        "            t_train_fold.requires_grad_()  # Ensure t_train_fold requires gradients\n",
        "            predictions = model(t_train_fold)\n",
        "            loss = model.compute_total_loss(t_train_fold, predictions, outputs_train_fold)\n",
        "            loss.backward(retain_graph=True)  # Retain the graph to allow multiple backward passes\n",
        "            optimizer.step()\n",
        "\n",
        "            if epoch % 100 == 0:\n",
        "                print(f\"Epoch {epoch}, Loss: {loss.item()}\")\n",
        "\n",
        "        # Validate the model on the validation set (using the trained model)\n",
        "        model.eval()  # Set the model to evaluation mode\n",
        "        with torch.no_grad():  # No gradient calculation for validation\n",
        "            predictions_val = model(t_val_fold)\n",
        "            loss_val = model.compute_total_loss(t_val_fold, predictions_val, outputs_val_fold)\n",
        "            total_loss += loss_val.item()\n",
        "\n",
        "    # Return the average loss from cross-validation\n",
        "    avg_loss = total_loss / kfold.get_n_splits()\n",
        "    return avg_loss  # Optuna will use this to find the best hyperparameters\n",
        "\n",
        "# Create an Optuna study\n",
        "study = optuna.create_study(direction='minimize')  # We want to minimize the loss\n",
        "study.optimize(objective, n_trials=10)  # Optimize for 10 trials\n",
        "\n",
        "# Print the best hyperparameters\n",
        "print(\"Best hyperparameters: \", study.best_params)\n",
        "print(\"Best trial's loss: \", study.best_value)\n"
      ],
      "metadata": {
        "colab": {
          "base_uri": "https://localhost:8080/"
        },
        "collapsed": true,
        "id": "9L2KjRzrx-pa",
        "outputId": "c523ef89-be97-45e3-cecf-aa175ec3adde"
      },
      "execution_count": 164,
      "outputs": [
        {
          "output_type": "stream",
          "name": "stderr",
          "text": [
            "[I 2025-01-21 12:19:03,015] A new study created in memory with name: no-name-fa7ea662-96e9-43c2-9378-312148ec7722\n",
            "<ipython-input-164-46bf2ebf2f1c>:12: FutureWarning: suggest_loguniform has been deprecated in v3.0.0. This feature will be removed in v6.0.0. See https://github.com/optuna/optuna/releases/tag/v3.0.0. Use suggest_float(..., log=True) instead.\n",
            "  learning_rate = trial.suggest_loguniform('learning_rate', 1e-5, 1e-4)  # Learning rate\n"
          ]
        },
        {
          "output_type": "stream",
          "name": "stdout",
          "text": [
            "Epoch 0, Loss: 1.1223136186599731\n",
            "Epoch 100, Loss: 1.0825769901275635\n",
            "Epoch 200, Loss: 1.0544438362121582\n",
            "Epoch 300, Loss: 1.0346578359603882\n",
            "Epoch 400, Loss: 1.0206869840621948\n",
            "Epoch 500, Loss: 1.0108609199523926\n",
            "Epoch 600, Loss: 1.0040463209152222\n",
            "Epoch 700, Loss: 0.9993899464607239\n",
            "Epoch 800, Loss: 0.9962226152420044\n",
            "Epoch 900, Loss: 0.9940347671508789\n",
            "Epoch 0, Loss: 1.2035400867462158\n",
            "Epoch 100, Loss: 1.1331146955490112\n",
            "Epoch 200, Loss: 1.0754700899124146\n",
            "Epoch 300, Loss: 1.0289115905761719\n",
            "Epoch 400, Loss: 0.9918109178543091\n",
            "Epoch 500, Loss: 0.962689995765686\n",
            "Epoch 600, Loss: 0.9401944875717163\n",
            "Epoch 700, Loss: 0.923102080821991\n",
            "Epoch 800, Loss: 0.9103342294692993\n",
            "Epoch 900, Loss: 0.900962233543396\n",
            "Epoch 0, Loss: 1.2132279872894287\n",
            "Epoch 100, Loss: 1.1480945348739624\n",
            "Epoch 200, Loss: 1.1013065576553345\n",
            "Epoch 300, Loss: 1.0691176652908325\n",
            "Epoch 400, Loss: 1.0479447841644287\n",
            "Epoch 500, Loss: 1.0346872806549072\n",
            "Epoch 600, Loss: 1.0268033742904663\n",
            "Epoch 700, Loss: 1.0223462581634521\n",
            "Epoch 800, Loss: 1.0199353694915771\n",
            "Epoch 900, Loss: 1.0186667442321777\n",
            "Epoch 0, Loss: 1.2380439043045044\n",
            "Epoch 100, Loss: 1.182986855506897\n",
            "Epoch 200, Loss: 1.14042067527771\n",
            "Epoch 300, Loss: 1.1082110404968262\n",
            "Epoch 400, Loss: 1.0843816995620728\n",
            "Epoch 500, Loss: 1.0671825408935547\n",
            "Epoch 600, Loss: 1.0550864934921265\n",
            "Epoch 700, Loss: 1.046793818473816\n",
            "Epoch 800, Loss: 1.0412352085113525\n",
            "Epoch 900, Loss: 1.037566900253296\n",
            "Epoch 0, Loss: 1.0711884498596191\n",
            "Epoch 100, Loss: 1.0296156406402588\n",
            "Epoch 200, Loss: 1.0024387836456299\n",
            "Epoch 300, Loss: 0.9858447313308716\n",
            "Epoch 400, Loss: 0.9764373898506165\n",
            "Epoch 500, Loss: 0.9714986681938171\n",
            "Epoch 600, Loss: 0.9690573811531067\n",
            "Epoch 700, Loss: 0.9678555727005005\n",
            "Epoch 800, Loss: 0.9671958684921265\n"
          ]
        },
        {
          "output_type": "stream",
          "name": "stderr",
          "text": [
            "[I 2025-01-21 12:19:09,351] Trial 0 finished with value: 1.0168532490730287 and parameters: {'num_neurons': 128, 'learning_rate': 1.520743883962967e-05, 'activation_fn': 'Tanh'}. Best is trial 0 with value: 1.0168532490730287.\n"
          ]
        },
        {
          "output_type": "stream",
          "name": "stdout",
          "text": [
            "Epoch 900, Loss: 0.9667436480522156\n",
            "Epoch 0, Loss: 1.2258429527282715\n",
            "Epoch 100, Loss: 1.130818486213684\n",
            "Epoch 200, Loss: 1.0785614252090454\n",
            "Epoch 300, Loss: 1.0488967895507812\n",
            "Epoch 400, Loss: 1.0311393737792969\n",
            "Epoch 500, Loss: 1.0199720859527588\n",
            "Epoch 600, Loss: 1.0124355554580688\n",
            "Epoch 700, Loss: 1.0068888664245605\n",
            "Epoch 800, Loss: 1.0025019645690918\n",
            "Epoch 900, Loss: 0.998881459236145\n",
            "Epoch 0, Loss: 1.24398934841156\n",
            "Epoch 100, Loss: 1.167437195777893\n",
            "Epoch 200, Loss: 1.1342005729675293\n",
            "Epoch 300, Loss: 1.117347002029419\n",
            "Epoch 400, Loss: 1.1080920696258545\n",
            "Epoch 500, Loss: 1.1025545597076416\n",
            "Epoch 600, Loss: 1.0986883640289307\n",
            "Epoch 700, Loss: 1.0955356359481812\n",
            "Epoch 800, Loss: 1.0927197933197021\n",
            "Epoch 900, Loss: 1.0901222229003906\n",
            "Epoch 0, Loss: 1.2243871688842773\n",
            "Epoch 100, Loss: 1.1446216106414795\n",
            "Epoch 200, Loss: 1.1021842956542969\n",
            "Epoch 300, Loss: 1.0797224044799805\n",
            "Epoch 400, Loss: 1.0667307376861572\n",
            "Epoch 500, Loss: 1.0580451488494873\n",
            "Epoch 600, Loss: 1.051503300666809\n",
            "Epoch 700, Loss: 1.0462753772735596\n",
            "Epoch 800, Loss: 1.0420160293579102\n",
            "Epoch 900, Loss: 1.038454532623291\n",
            "Epoch 0, Loss: 0.9988002777099609\n",
            "Epoch 100, Loss: 0.975493311882019\n",
            "Epoch 200, Loss: 0.9692741632461548\n",
            "Epoch 300, Loss: 0.9644657969474792\n",
            "Epoch 400, Loss: 0.9605609178543091\n",
            "Epoch 500, Loss: 0.957317054271698\n",
            "Epoch 600, Loss: 0.9545686841011047\n",
            "Epoch 700, Loss: 0.9522089958190918\n",
            "Epoch 800, Loss: 0.9501394033432007\n",
            "Epoch 900, Loss: 0.9482766389846802\n",
            "Epoch 0, Loss: 1.0617403984069824\n",
            "Epoch 100, Loss: 1.0075664520263672\n",
            "Epoch 200, Loss: 0.988347053527832\n",
            "Epoch 300, Loss: 0.9812273979187012\n",
            "Epoch 400, Loss: 0.9784489870071411\n",
            "Epoch 500, Loss: 0.9770547747612\n",
            "Epoch 600, Loss: 0.9760507345199585\n",
            "Epoch 700, Loss: 0.9751594662666321\n",
            "Epoch 800, Loss: 0.9743232727050781\n"
          ]
        },
        {
          "output_type": "stream",
          "name": "stderr",
          "text": [
            "[I 2025-01-21 12:19:17,435] Trial 1 finished with value: 1.0921563625335693 and parameters: {'num_neurons': 256, 'learning_rate': 2.0820496749001387e-05, 'activation_fn': 'ReLU'}. Best is trial 0 with value: 1.0168532490730287.\n"
          ]
        },
        {
          "output_type": "stream",
          "name": "stdout",
          "text": [
            "Epoch 900, Loss: 0.9735028147697449\n",
            "Epoch 0, Loss: 1.1406269073486328\n",
            "Epoch 100, Loss: 1.0155584812164307\n",
            "Epoch 200, Loss: 0.9955927729606628\n",
            "Epoch 300, Loss: 0.9923065304756165\n",
            "Epoch 400, Loss: 0.9903119206428528\n",
            "Epoch 500, Loss: 0.9886679649353027\n",
            "Epoch 600, Loss: 0.9873199462890625\n",
            "Epoch 700, Loss: 0.9862297177314758\n",
            "Epoch 800, Loss: 0.9853517413139343\n",
            "Epoch 900, Loss: 0.9846380352973938\n",
            "Epoch 0, Loss: 1.2580822706222534\n",
            "Epoch 100, Loss: 1.1198382377624512\n",
            "Epoch 200, Loss: 1.0892202854156494\n",
            "Epoch 300, Loss: 1.083091139793396\n",
            "Epoch 400, Loss: 1.0798901319503784\n",
            "Epoch 500, Loss: 1.0773268938064575\n",
            "Epoch 600, Loss: 1.0752005577087402\n",
            "Epoch 700, Loss: 1.07346510887146\n",
            "Epoch 800, Loss: 1.0720720291137695\n",
            "Epoch 900, Loss: 1.070960283279419\n",
            "Epoch 0, Loss: 1.1453427076339722\n",
            "Epoch 100, Loss: 1.0449892282485962\n",
            "Epoch 200, Loss: 1.0250753164291382\n",
            "Epoch 300, Loss: 1.0151755809783936\n",
            "Epoch 400, Loss: 1.0089280605316162\n",
            "Epoch 500, Loss: 1.0052413940429688\n",
            "Epoch 600, Loss: 1.0032227039337158\n",
            "Epoch 700, Loss: 1.0021913051605225\n",
            "Epoch 800, Loss: 1.0016878843307495\n",
            "Epoch 900, Loss: 1.0014383792877197\n",
            "Epoch 0, Loss: 0.9578582644462585\n",
            "Epoch 100, Loss: 0.8869721293449402\n",
            "Epoch 200, Loss: 0.8772087097167969\n",
            "Epoch 300, Loss: 0.8727847337722778\n",
            "Epoch 400, Loss: 0.8707497715950012\n",
            "Epoch 500, Loss: 0.8699085116386414\n",
            "Epoch 600, Loss: 0.8695520162582397\n",
            "Epoch 700, Loss: 0.8693531155586243\n",
            "Epoch 800, Loss: 0.8691908717155457\n",
            "Epoch 900, Loss: 0.8690298199653625\n",
            "Epoch 0, Loss: 1.0262762308120728\n",
            "Epoch 100, Loss: 0.9966275095939636\n",
            "Epoch 200, Loss: 0.9862065315246582\n",
            "Epoch 300, Loss: 0.9809597134590149\n",
            "Epoch 400, Loss: 0.9786319732666016\n",
            "Epoch 500, Loss: 0.977645993232727\n",
            "Epoch 600, Loss: 0.9771572351455688\n",
            "Epoch 700, Loss: 0.9768091440200806\n",
            "Epoch 800, Loss: 0.9764825701713562\n"
          ]
        },
        {
          "output_type": "stream",
          "name": "stderr",
          "text": [
            "[I 2025-01-21 12:19:24,081] Trial 2 finished with value: 1.0305726051330566 and parameters: {'num_neurons': 512, 'learning_rate': 1.4317541062812098e-05, 'activation_fn': 'Sigmoid'}. Best is trial 0 with value: 1.0168532490730287.\n"
          ]
        },
        {
          "output_type": "stream",
          "name": "stdout",
          "text": [
            "Epoch 900, Loss: 0.9761465787887573\n",
            "Epoch 0, Loss: 1.2044917345046997\n",
            "Epoch 100, Loss: 1.16526198387146\n",
            "Epoch 200, Loss: 1.1334259510040283\n",
            "Epoch 300, Loss: 1.1079896688461304\n",
            "Epoch 400, Loss: 1.0879278182983398\n",
            "Epoch 500, Loss: 1.072277307510376\n",
            "Epoch 600, Loss: 1.0601942539215088\n",
            "Epoch 700, Loss: 1.0509212017059326\n",
            "Epoch 800, Loss: 1.0438005924224854\n",
            "Epoch 900, Loss: 1.038312554359436\n",
            "Epoch 0, Loss: 1.376194715499878\n",
            "Epoch 100, Loss: 1.3426005840301514\n",
            "Epoch 200, Loss: 1.3156378269195557\n",
            "Epoch 300, Loss: 1.2938193082809448\n",
            "Epoch 400, Loss: 1.2758278846740723\n",
            "Epoch 500, Loss: 1.2606772184371948\n",
            "Epoch 600, Loss: 1.2477238178253174\n",
            "Epoch 700, Loss: 1.2365648746490479\n",
            "Epoch 800, Loss: 1.2269184589385986\n",
            "Epoch 900, Loss: 1.218577265739441\n",
            "Epoch 0, Loss: 1.2345927953720093\n",
            "Epoch 100, Loss: 1.209378957748413\n",
            "Epoch 200, Loss: 1.192675232887268\n",
            "Epoch 300, Loss: 1.1817567348480225\n",
            "Epoch 400, Loss: 1.1746540069580078\n",
            "Epoch 500, Loss: 1.1700568199157715\n",
            "Epoch 600, Loss: 1.1670398712158203\n",
            "Epoch 700, Loss: 1.1649707555770874\n",
            "Epoch 800, Loss: 1.1634680032730103\n",
            "Epoch 900, Loss: 1.1622867584228516\n",
            "Epoch 0, Loss: 1.133613109588623\n",
            "Epoch 100, Loss: 1.0979739427566528\n",
            "Epoch 200, Loss: 1.0704119205474854\n",
            "Epoch 300, Loss: 1.0490261316299438\n",
            "Epoch 400, Loss: 1.0322957038879395\n",
            "Epoch 500, Loss: 1.0191161632537842\n",
            "Epoch 600, Loss: 1.0087082386016846\n",
            "Epoch 700, Loss: 1.000497817993164\n",
            "Epoch 800, Loss: 0.9940292239189148\n",
            "Epoch 900, Loss: 0.9889415502548218\n",
            "Epoch 0, Loss: 1.2648441791534424\n",
            "Epoch 100, Loss: 1.2367278337478638\n",
            "Epoch 200, Loss: 1.213591456413269\n",
            "Epoch 300, Loss: 1.1944859027862549\n",
            "Epoch 400, Loss: 1.1786730289459229\n",
            "Epoch 500, Loss: 1.1656184196472168\n",
            "Epoch 600, Loss: 1.1548535823822021\n",
            "Epoch 700, Loss: 1.1459665298461914\n",
            "Epoch 800, Loss: 1.1386255025863647\n",
            "Epoch 900, Loss: 1.1325558423995972\n"
          ]
        },
        {
          "output_type": "stream",
          "name": "stderr",
          "text": [
            "[I 2025-01-21 12:19:31,992] Trial 3 finished with value: 1.2073113203048706 and parameters: {'num_neurons': 128, 'learning_rate': 1.2005825955269839e-05, 'activation_fn': 'ReLU'}. Best is trial 0 with value: 1.0168532490730287.\n"
          ]
        },
        {
          "output_type": "stream",
          "name": "stdout",
          "text": [
            "Epoch 0, Loss: 0.9904772639274597\n",
            "Epoch 100, Loss: 0.8585559725761414\n",
            "Epoch 200, Loss: 0.8546246290206909\n",
            "Epoch 300, Loss: 0.8511160612106323\n",
            "Epoch 400, Loss: 0.8482279777526855\n",
            "Epoch 500, Loss: 0.8459385633468628\n",
            "Epoch 600, Loss: 0.8441858291625977\n",
            "Epoch 700, Loss: 0.8428937792778015\n",
            "Epoch 800, Loss: 0.8419766426086426\n",
            "Epoch 900, Loss: 0.8413466215133667\n",
            "Epoch 0, Loss: 0.9316738247871399\n",
            "Epoch 100, Loss: 0.8086913824081421\n",
            "Epoch 200, Loss: 0.8035773038864136\n",
            "Epoch 300, Loss: 0.7991016507148743\n",
            "Epoch 400, Loss: 0.7954143285751343\n",
            "Epoch 500, Loss: 0.7924383878707886\n",
            "Epoch 600, Loss: 0.7900814414024353\n",
            "Epoch 700, Loss: 0.7882534861564636\n",
            "Epoch 800, Loss: 0.7868596911430359\n",
            "Epoch 900, Loss: 0.7858020067214966\n",
            "Epoch 0, Loss: 1.0119051933288574\n",
            "Epoch 100, Loss: 0.8702497482299805\n",
            "Epoch 200, Loss: 0.8653593063354492\n",
            "Epoch 300, Loss: 0.8609132766723633\n",
            "Epoch 400, Loss: 0.857172966003418\n",
            "Epoch 500, Loss: 0.8540655374526978\n",
            "Epoch 600, Loss: 0.8514782190322876\n",
            "Epoch 700, Loss: 0.8493248224258423\n",
            "Epoch 800, Loss: 0.8475363850593567\n",
            "Epoch 900, Loss: 0.8460479974746704\n",
            "Epoch 0, Loss: 0.9342926144599915\n",
            "Epoch 100, Loss: 0.8769444227218628\n",
            "Epoch 200, Loss: 0.8705724477767944\n",
            "Epoch 300, Loss: 0.8657199144363403\n",
            "Epoch 400, Loss: 0.8625597953796387\n",
            "Epoch 500, Loss: 0.8607333302497864\n",
            "Epoch 600, Loss: 0.8597730398178101\n",
            "Epoch 700, Loss: 0.8592894673347473\n",
            "Epoch 800, Loss: 0.8590291738510132\n",
            "Epoch 900, Loss: 0.8588581085205078\n",
            "Epoch 0, Loss: 0.906617283821106\n",
            "Epoch 100, Loss: 0.8386430740356445\n",
            "Epoch 200, Loss: 0.8318888545036316\n",
            "Epoch 300, Loss: 0.8263776898384094\n",
            "Epoch 400, Loss: 0.8222635984420776\n",
            "Epoch 500, Loss: 0.8193599581718445\n",
            "Epoch 600, Loss: 0.8174082040786743\n",
            "Epoch 700, Loss: 0.8161390423774719\n",
            "Epoch 800, Loss: 0.8153108358383179\n",
            "Epoch 900, Loss: 0.8147385716438293\n"
          ]
        },
        {
          "output_type": "stream",
          "name": "stderr",
          "text": [
            "[I 2025-01-21 12:19:39,121] Trial 4 finished with value: 0.8925165653228759 and parameters: {'num_neurons': 512, 'learning_rate': 5.919237038363878e-05, 'activation_fn': 'Tanh'}. Best is trial 4 with value: 0.8925165653228759.\n"
          ]
        },
        {
          "output_type": "stream",
          "name": "stdout",
          "text": [
            "Epoch 0, Loss: 1.168587327003479\n",
            "Epoch 100, Loss: 1.0639152526855469\n",
            "Epoch 200, Loss: 1.042323350906372\n",
            "Epoch 300, Loss: 1.0264337062835693\n",
            "Epoch 400, Loss: 1.0124306678771973\n",
            "Epoch 500, Loss: 1.0002288818359375\n",
            "Epoch 600, Loss: 0.9897292852401733\n",
            "Epoch 700, Loss: 0.980787456035614\n",
            "Epoch 800, Loss: 0.9732385873794556\n",
            "Epoch 900, Loss: 0.9669114947319031\n",
            "Epoch 0, Loss: 0.9563239216804504\n",
            "Epoch 100, Loss: 0.9174430966377258\n",
            "Epoch 200, Loss: 0.9138997197151184\n",
            "Epoch 300, Loss: 0.9105029106140137\n",
            "Epoch 400, Loss: 0.9073868989944458\n",
            "Epoch 500, Loss: 0.9046503305435181\n",
            "Epoch 600, Loss: 0.9023219347000122\n",
            "Epoch 700, Loss: 0.9003877639770508\n",
            "Epoch 800, Loss: 0.8988045454025269\n",
            "Epoch 900, Loss: 0.8975140452384949\n",
            "Epoch 0, Loss: 0.9942960739135742\n",
            "Epoch 100, Loss: 0.9305685758590698\n",
            "Epoch 200, Loss: 0.922892689704895\n",
            "Epoch 300, Loss: 0.9159927368164062\n",
            "Epoch 400, Loss: 0.9099728465080261\n",
            "Epoch 500, Loss: 0.9049107432365417\n",
            "Epoch 600, Loss: 0.9007171392440796\n",
            "Epoch 700, Loss: 0.897231936454773\n",
            "Epoch 800, Loss: 0.8942813873291016\n",
            "Epoch 900, Loss: 0.8917131423950195\n",
            "Epoch 0, Loss: 1.177466630935669\n",
            "Epoch 100, Loss: 1.002117395401001\n",
            "Epoch 200, Loss: 0.9789865612983704\n",
            "Epoch 300, Loss: 0.9706665277481079\n",
            "Epoch 400, Loss: 0.96356201171875\n",
            "Epoch 500, Loss: 0.9572637677192688\n",
            "Epoch 600, Loss: 0.9517364501953125\n",
            "Epoch 700, Loss: 0.9468975067138672\n",
            "Epoch 800, Loss: 0.9426385164260864\n",
            "Epoch 900, Loss: 0.938851535320282\n",
            "Epoch 0, Loss: 1.0565435886383057\n",
            "Epoch 100, Loss: 1.0182278156280518\n",
            "Epoch 200, Loss: 1.007672905921936\n",
            "Epoch 300, Loss: 0.9990288019180298\n",
            "Epoch 400, Loss: 0.9919150471687317\n",
            "Epoch 500, Loss: 0.9859417080879211\n",
            "Epoch 600, Loss: 0.9808516502380371\n",
            "Epoch 700, Loss: 0.9764801859855652\n",
            "Epoch 800, Loss: 0.9727064967155457\n",
            "Epoch 900, Loss: 0.9694309234619141\n"
          ]
        },
        {
          "output_type": "stream",
          "name": "stderr",
          "text": [
            "[I 2025-01-21 12:19:46,071] Trial 5 finished with value: 1.0340312838554382 and parameters: {'num_neurons': 128, 'learning_rate': 8.299009630465996e-05, 'activation_fn': 'Tanh'}. Best is trial 4 with value: 0.8925165653228759.\n"
          ]
        },
        {
          "output_type": "stream",
          "name": "stdout",
          "text": [
            "Epoch 0, Loss: 1.1301590204238892\n",
            "Epoch 100, Loss: 0.9411358833312988\n",
            "Epoch 200, Loss: 0.934207558631897\n",
            "Epoch 300, Loss: 0.933364987373352\n",
            "Epoch 400, Loss: 0.9325319528579712\n",
            "Epoch 500, Loss: 0.931692898273468\n",
            "Epoch 600, Loss: 0.9308484792709351\n",
            "Epoch 700, Loss: 0.9299958944320679\n",
            "Epoch 800, Loss: 0.9291313290596008\n",
            "Epoch 900, Loss: 0.9282503128051758\n",
            "Epoch 0, Loss: 1.0393569469451904\n",
            "Epoch 100, Loss: 0.974704384803772\n",
            "Epoch 200, Loss: 0.9719764590263367\n",
            "Epoch 300, Loss: 0.9693816900253296\n",
            "Epoch 400, Loss: 0.9670248031616211\n",
            "Epoch 500, Loss: 0.9648691415786743\n",
            "Epoch 600, Loss: 0.9628325700759888\n",
            "Epoch 700, Loss: 0.960837185382843\n",
            "Epoch 800, Loss: 0.9588247537612915\n",
            "Epoch 900, Loss: 0.9567564725875854\n",
            "Epoch 0, Loss: 1.1639988422393799\n",
            "Epoch 100, Loss: 1.110399842262268\n",
            "Epoch 200, Loss: 1.1084554195404053\n",
            "Epoch 300, Loss: 1.106481909751892\n",
            "Epoch 400, Loss: 1.104472041130066\n",
            "Epoch 500, Loss: 1.102402687072754\n",
            "Epoch 600, Loss: 1.1002517938613892\n",
            "Epoch 700, Loss: 1.098000168800354\n",
            "Epoch 800, Loss: 1.0956300497055054\n",
            "Epoch 900, Loss: 1.0931251049041748\n",
            "Epoch 0, Loss: 1.3295437097549438\n",
            "Epoch 100, Loss: 1.1157509088516235\n",
            "Epoch 200, Loss: 1.0725338459014893\n",
            "Epoch 300, Loss: 1.065805435180664\n",
            "Epoch 400, Loss: 1.0627154111862183\n",
            "Epoch 500, Loss: 1.0597515106201172\n",
            "Epoch 600, Loss: 1.0567682981491089\n",
            "Epoch 700, Loss: 1.0537532567977905\n",
            "Epoch 800, Loss: 1.0506925582885742\n",
            "Epoch 900, Loss: 1.0475718975067139\n",
            "Epoch 0, Loss: 1.1809113025665283\n",
            "Epoch 100, Loss: 0.9239681363105774\n",
            "Epoch 200, Loss: 0.8687437176704407\n",
            "Epoch 300, Loss: 0.860456645488739\n",
            "Epoch 400, Loss: 0.857589066028595\n",
            "Epoch 500, Loss: 0.8552096486091614\n",
            "Epoch 600, Loss: 0.8530621528625488\n",
            "Epoch 700, Loss: 0.8511267900466919\n",
            "Epoch 800, Loss: 0.849398136138916\n",
            "Epoch 900, Loss: 0.8478724360466003\n"
          ]
        },
        {
          "output_type": "stream",
          "name": "stderr",
          "text": [
            "[I 2025-01-21 12:19:52,119] Trial 6 finished with value: 1.0840210676193238 and parameters: {'num_neurons': 128, 'learning_rate': 9.699128354836055e-05, 'activation_fn': 'Tanh'}. Best is trial 4 with value: 0.8925165653228759.\n"
          ]
        },
        {
          "output_type": "stream",
          "name": "stdout",
          "text": [
            "Epoch 0, Loss: 1.1625843048095703\n",
            "Epoch 100, Loss: 1.1255733966827393\n",
            "Epoch 200, Loss: 1.1233258247375488\n",
            "Epoch 300, Loss: 1.1229040622711182\n",
            "Epoch 400, Loss: 1.1226210594177246\n",
            "Epoch 500, Loss: 1.1224329471588135\n",
            "Epoch 600, Loss: 1.1223039627075195\n",
            "Epoch 700, Loss: 1.1222057342529297\n",
            "Epoch 800, Loss: 1.1221215724945068\n",
            "Epoch 900, Loss: 1.1220418214797974\n",
            "Epoch 0, Loss: 1.094137191772461\n",
            "Epoch 100, Loss: 0.9774017333984375\n",
            "Epoch 200, Loss: 0.9393634796142578\n",
            "Epoch 300, Loss: 0.9289718866348267\n",
            "Epoch 400, Loss: 0.9251754879951477\n",
            "Epoch 500, Loss: 0.9226926565170288\n",
            "Epoch 600, Loss: 0.9206241369247437\n",
            "Epoch 700, Loss: 0.9188786745071411\n",
            "Epoch 800, Loss: 0.9174415469169617\n",
            "Epoch 900, Loss: 0.9162889719009399\n",
            "Epoch 0, Loss: 1.2751282453536987\n",
            "Epoch 100, Loss: 1.1353586912155151\n",
            "Epoch 200, Loss: 1.0822865962982178\n",
            "Epoch 300, Loss: 1.0681726932525635\n",
            "Epoch 400, Loss: 1.0655486583709717\n",
            "Epoch 500, Loss: 1.0650947093963623\n",
            "Epoch 600, Loss: 1.0649187564849854\n",
            "Epoch 700, Loss: 1.0647822618484497\n",
            "Epoch 800, Loss: 1.0646631717681885\n",
            "Epoch 900, Loss: 1.0645569562911987\n",
            "Epoch 0, Loss: 1.0761868953704834\n",
            "Epoch 100, Loss: 1.03840970993042\n",
            "Epoch 200, Loss: 1.0351722240447998\n",
            "Epoch 300, Loss: 1.0349764823913574\n",
            "Epoch 400, Loss: 1.0348632335662842\n",
            "Epoch 500, Loss: 1.0347540378570557\n",
            "Epoch 600, Loss: 1.0346453189849854\n",
            "Epoch 700, Loss: 1.0345343351364136\n",
            "Epoch 800, Loss: 1.0344202518463135\n",
            "Epoch 900, Loss: 1.0343021154403687\n",
            "Epoch 0, Loss: 1.1271569728851318\n",
            "Epoch 100, Loss: 1.1140756607055664\n",
            "Epoch 200, Loss: 1.1126735210418701\n",
            "Epoch 300, Loss: 1.111517071723938\n",
            "Epoch 400, Loss: 1.1106065511703491\n",
            "Epoch 500, Loss: 1.1098848581314087\n",
            "Epoch 600, Loss: 1.109281063079834\n",
            "Epoch 700, Loss: 1.1087400913238525\n",
            "Epoch 800, Loss: 1.108228087425232\n",
            "Epoch 900, Loss: 1.1077282428741455\n"
          ]
        },
        {
          "output_type": "stream",
          "name": "stderr",
          "text": [
            "[I 2025-01-21 12:19:59,428] Trial 7 finished with value: 1.0744677662849427 and parameters: {'num_neurons': 256, 'learning_rate': 1.662833278640092e-05, 'activation_fn': 'Sigmoid'}. Best is trial 4 with value: 0.8925165653228759.\n"
          ]
        },
        {
          "output_type": "stream",
          "name": "stdout",
          "text": [
            "Epoch 0, Loss: 1.1075568199157715\n",
            "Epoch 100, Loss: 1.0791707038879395\n",
            "Epoch 200, Loss: 1.0623036623001099\n",
            "Epoch 300, Loss: 1.052704095840454\n",
            "Epoch 400, Loss: 1.0472629070281982\n",
            "Epoch 500, Loss: 1.0441334247589111\n",
            "Epoch 600, Loss: 1.0422437191009521\n",
            "Epoch 700, Loss: 1.0409682989120483\n",
            "Epoch 800, Loss: 1.039970874786377\n",
            "Epoch 900, Loss: 1.039095163345337\n",
            "Epoch 0, Loss: 1.038024663925171\n",
            "Epoch 100, Loss: 1.0084633827209473\n",
            "Epoch 200, Loss: 0.9857279062271118\n",
            "Epoch 300, Loss: 0.9687496423721313\n",
            "Epoch 400, Loss: 0.9564483761787415\n",
            "Epoch 500, Loss: 0.9478195905685425\n",
            "Epoch 600, Loss: 0.9419635534286499\n",
            "Epoch 700, Loss: 0.9381089210510254\n",
            "Epoch 800, Loss: 0.9356300234794617\n",
            "Epoch 900, Loss: 0.934049129486084\n",
            "Epoch 0, Loss: 1.2061575651168823\n",
            "Epoch 100, Loss: 1.1715624332427979\n",
            "Epoch 200, Loss: 1.1466772556304932\n",
            "Epoch 300, Loss: 1.128430962562561\n",
            "Epoch 400, Loss: 1.1150810718536377\n",
            "Epoch 500, Loss: 1.1054327487945557\n",
            "Epoch 600, Loss: 1.0985219478607178\n",
            "Epoch 700, Loss: 1.0935604572296143\n",
            "Epoch 800, Loss: 1.0899312496185303\n",
            "Epoch 900, Loss: 1.0871821641921997\n",
            "Epoch 0, Loss: 1.0492973327636719\n",
            "Epoch 100, Loss: 1.0309770107269287\n",
            "Epoch 200, Loss: 1.018768310546875\n",
            "Epoch 300, Loss: 1.0111569166183472\n",
            "Epoch 400, Loss: 1.0067120790481567\n",
            "Epoch 500, Loss: 1.0042558908462524\n",
            "Epoch 600, Loss: 1.0029280185699463\n",
            "Epoch 700, Loss: 1.00217866897583\n",
            "Epoch 800, Loss: 1.0017038583755493\n",
            "Epoch 900, Loss: 1.0013549327850342\n",
            "Epoch 0, Loss: 1.0817382335662842\n",
            "Epoch 100, Loss: 1.0613740682601929\n",
            "Epoch 200, Loss: 1.047366976737976\n",
            "Epoch 300, Loss: 1.0381313562393188\n",
            "Epoch 400, Loss: 1.0321511030197144\n",
            "Epoch 500, Loss: 1.0281836986541748\n",
            "Epoch 600, Loss: 1.0253492593765259\n",
            "Epoch 700, Loss: 1.0231218338012695\n",
            "Epoch 800, Loss: 1.021232008934021\n"
          ]
        },
        {
          "output_type": "stream",
          "name": "stderr",
          "text": [
            "[I 2025-01-21 12:20:05,839] Trial 8 finished with value: 1.0481784224510193 and parameters: {'num_neurons': 128, 'learning_rate': 1.0818246332114719e-05, 'activation_fn': 'Sigmoid'}. Best is trial 4 with value: 0.8925165653228759.\n"
          ]
        },
        {
          "output_type": "stream",
          "name": "stdout",
          "text": [
            "Epoch 900, Loss: 1.0195565223693848\n",
            "Epoch 0, Loss: 1.1252301931381226\n",
            "Epoch 100, Loss: 0.9959856271743774\n",
            "Epoch 200, Loss: 0.9337701797485352\n",
            "Epoch 300, Loss: 0.9081581234931946\n",
            "Epoch 400, Loss: 0.8980620503425598\n",
            "Epoch 500, Loss: 0.8932622671127319\n",
            "Epoch 600, Loss: 0.8901067972183228\n",
            "Epoch 700, Loss: 0.8875582814216614\n",
            "Epoch 800, Loss: 0.8853076696395874\n",
            "Epoch 900, Loss: 0.8832744359970093\n",
            "Epoch 0, Loss: 0.9998041391372681\n",
            "Epoch 100, Loss: 0.9513216018676758\n",
            "Epoch 200, Loss: 0.9355367422103882\n",
            "Epoch 300, Loss: 0.9287614822387695\n",
            "Epoch 400, Loss: 0.9246255159378052\n",
            "Epoch 500, Loss: 0.9212724566459656\n",
            "Epoch 600, Loss: 0.9182636141777039\n",
            "Epoch 700, Loss: 0.9155281782150269\n",
            "Epoch 800, Loss: 0.9130241274833679\n",
            "Epoch 900, Loss: 0.9107508659362793\n",
            "Epoch 0, Loss: 0.9290519952774048\n",
            "Epoch 100, Loss: 0.8436650037765503\n",
            "Epoch 200, Loss: 0.8128509521484375\n",
            "Epoch 300, Loss: 0.8021261096000671\n",
            "Epoch 400, Loss: 0.7976938486099243\n",
            "Epoch 500, Loss: 0.7950078845024109\n",
            "Epoch 600, Loss: 0.7929462194442749\n",
            "Epoch 700, Loss: 0.7912259697914124\n",
            "Epoch 800, Loss: 0.7897493243217468\n",
            "Epoch 900, Loss: 0.7884442806243896\n",
            "Epoch 0, Loss: 1.022460699081421\n",
            "Epoch 100, Loss: 0.9545210003852844\n",
            "Epoch 200, Loss: 0.9191576242446899\n",
            "Epoch 300, Loss: 0.9015164375305176\n",
            "Epoch 400, Loss: 0.8923138380050659\n",
            "Epoch 500, Loss: 0.8867244720458984\n",
            "Epoch 600, Loss: 0.882794201374054\n",
            "Epoch 700, Loss: 0.8797709345817566\n",
            "Epoch 800, Loss: 0.877324104309082\n",
            "Epoch 900, Loss: 0.8752723932266235\n",
            "Epoch 0, Loss: 1.1523514986038208\n",
            "Epoch 100, Loss: 1.0338135957717896\n",
            "Epoch 200, Loss: 0.9781076312065125\n",
            "Epoch 300, Loss: 0.9540680646896362\n",
            "Epoch 400, Loss: 0.943923830986023\n",
            "Epoch 500, Loss: 0.9388267397880554\n",
            "Epoch 600, Loss: 0.9353721737861633\n",
            "Epoch 700, Loss: 0.9325383901596069\n",
            "Epoch 800, Loss: 0.930038571357727\n"
          ]
        },
        {
          "output_type": "stream",
          "name": "stderr",
          "text": [
            "[I 2025-01-21 12:20:12,991] Trial 9 finished with value: 0.948773980140686 and parameters: {'num_neurons': 256, 'learning_rate': 2.211492745875488e-05, 'activation_fn': 'ReLU'}. Best is trial 4 with value: 0.8925165653228759.\n"
          ]
        },
        {
          "output_type": "stream",
          "name": "stdout",
          "text": [
            "Epoch 900, Loss: 0.9277957081794739\n",
            "Best hyperparameters:  {'num_neurons': 512, 'learning_rate': 5.919237038363878e-05, 'activation_fn': 'Tanh'}\n",
            "Best trial's loss:  0.8925165653228759\n"
          ]
        }
      ]
    },
    {
      "cell_type": "markdown",
      "source": [
        "**Training the best model**"
      ],
      "metadata": {
        "id": "F8KVzmfO1BZi"
      }
    },
    {
      "cell_type": "code",
      "source": [
        "# L1 regularization term\n",
        "def l1_regularization(model, lambda_l1):\n",
        "    l1_norm = 0.0\n",
        "    for param in model.parameters():\n",
        "        l1_norm += torch.sum(torch.abs(param))\n",
        "    return lambda_l1 * l1_norm"
      ],
      "metadata": {
        "id": "WhjT6rrl3CIJ"
      },
      "execution_count": 175,
      "outputs": []
    },
    {
      "cell_type": "code",
      "source": [
        "# L2 regularization term\n",
        "def l2_regularization(model, lambda_l2):\n",
        "    l2_norm = 0.0\n",
        "    for param in model.parameters():\n",
        "        l2_norm += torch.sum(param**2)\n",
        "    return lambda_l2 * l2_norm"
      ],
      "metadata": {
        "id": "W4MQYTOT3FIC"
      },
      "execution_count": 176,
      "outputs": []
    },
    {
      "cell_type": "code",
      "source": [
        "# Define PiNN model with one hidden layer\n",
        "class ShuttlecockPiNN(nn.Module):\n",
        "    def __init__(self):\n",
        "        super(ShuttlecockPiNN, self).__init__()\n",
        "        self.hidden = nn.Sequential(\n",
        "            nn.Linear(1, 512),  # Single hidden layer with 512 neurons\n",
        "            nn.Tanh(),\n",
        "            nn.Linear(512, 4)  # Outputs: x, y, v_x, v_y\n",
        "        )\n",
        "        self.C = 0.5  # Drag coefficient\n",
        "\n",
        "    def forward(self, t):\n",
        "        return self.hidden(t)\n",
        "\n",
        "    def compute_ux(self, x_in):\n",
        "        # Compute Jacobian for the input x_in\n",
        "        return torch.autograd.functional.jacobian(self, x_in, create_graph=True)\n",
        "\n",
        "    def compute_physics_loss(self, t, outputs):\n",
        "        x, y, v_x, v_y = outputs[:, 0], outputs[:, 1], outputs[:, 2], outputs[:, 3]\n",
        "\n",
        "        # Compute derivatives using autograd\n",
        "        v_pred = torch.sqrt(v_x**2 + v_y**2)  # Speed magnitude\n",
        "        ax = torch.autograd.grad(v_x.sum(), t, create_graph=True)[0]\n",
        "        ay = torch.autograd.grad(v_y.sum(), t, create_graph=True)[0]\n",
        "\n",
        "        # Physics constraints: Drag and gravity forces\n",
        "        fx = -self.C * v_pred * v_x\n",
        "        fy = -g - self.C * v_pred * v_y\n",
        "\n",
        "        # Physics loss (difference between predicted and calculated physics)\n",
        "        physics_loss = torch.mean((ax - fx) ** 2 + (ay - fy) ** 2)\n",
        "        return physics_loss\n",
        "\n",
        "    def compute_total_loss(self, t, outputs, targets, lambda_reg=1.0, lambda_l1=0.001, lambda_l2=0.001):\n",
        "      # Compute data loss and physics-informed regularization\n",
        "      data_loss = torch.mean((outputs[:, :2] - targets) ** 2)  # Loss for x and y\n",
        "      physics_loss = self.compute_physics_loss(t, outputs)  # Physics-informed loss\n",
        "\n",
        "      # Add L1 and L2 regularization\n",
        "      l1_loss = l1_regularization(self, lambda_l1)\n",
        "      l2_loss = l2_regularization(self, lambda_l2)\n",
        "\n",
        "      total_loss = data_loss + physics_loss + l1_loss + l2_loss\n",
        "      return total_loss\n",
        "\n",
        "\n",
        "# Instantiate the model\n",
        "model = ShuttlecockPiNN()"
      ],
      "metadata": {
        "id": "WdkA626b0_r1"
      },
      "execution_count": 199,
      "outputs": []
    },
    {
      "cell_type": "code",
      "source": [
        "optimizer = optim.Adam(model.parameters(), lr=5.919237038363878e-05)"
      ],
      "metadata": {
        "id": "Xbcd_B_A1TqI"
      },
      "execution_count": 203,
      "outputs": []
    },
    {
      "cell_type": "code",
      "source": [
        "import matplotlib.pyplot as plt\n",
        "\n",
        "# Variables pour stocker l'historique des pertes\n",
        "loss_history = []\n",
        "\n",
        "# Training loop\n",
        "epochs = 4000\n",
        "for epoch in range(epochs):\n",
        "    optimizer.zero_grad()\n",
        "    t_train.requires_grad = True  # Enable gradient computation for time\n",
        "    predictions = model(t_train)\n",
        "    loss = model.compute_total_loss(t_train, predictions, outputs_train)\n",
        "    loss.backward()\n",
        "    optimizer.step()\n",
        "\n",
        "    # Sauvegarde de la perte pour chaque époque\n",
        "    loss_history.append(loss.item())\n",
        "\n",
        "    if epoch % 100 == 0:\n",
        "        print(f\"Epoch {epoch}, Loss: {loss.item()}\")\n",
        "\n",
        "# Plotting the learning curve\n",
        "plt.plot(range(epochs), loss_history, label='Loss')\n",
        "plt.xlabel('Epochs')\n",
        "plt.ylabel('Loss')\n",
        "plt.title('Learning Curve')\n",
        "plt.legend()\n",
        "plt.grid(True)\n",
        "plt.show()"
      ],
      "metadata": {
        "colab": {
          "base_uri": "https://localhost:8080/",
          "height": 1000
        },
        "collapsed": true,
        "id": "Hi09ekiX1gS2",
        "outputId": "b9fda1b7-0eda-4515-b2ca-616b3a14f9ed"
      },
      "execution_count": 204,
      "outputs": [
        {
          "output_type": "stream",
          "name": "stdout",
          "text": [
            "Epoch 0, Loss: 0.8561352491378784\n",
            "Epoch 100, Loss: 0.8546992540359497\n",
            "Epoch 200, Loss: 0.8546708822250366\n",
            "Epoch 300, Loss: 0.8546391129493713\n",
            "Epoch 400, Loss: 0.8546018004417419\n",
            "Epoch 500, Loss: 0.8545594811439514\n",
            "Epoch 600, Loss: 0.8545135259628296\n",
            "Epoch 700, Loss: 0.8544636964797974\n",
            "Epoch 800, Loss: 0.8544090390205383\n",
            "Epoch 900, Loss: 0.8543514609336853\n",
            "Epoch 1000, Loss: 0.8542891144752502\n",
            "Epoch 1100, Loss: 0.8542285561561584\n",
            "Epoch 1200, Loss: 0.8541703224182129\n",
            "Epoch 1300, Loss: 0.8541091084480286\n",
            "Epoch 1400, Loss: 0.8540471196174622\n",
            "Epoch 1500, Loss: 0.853996217250824\n",
            "Epoch 1600, Loss: 0.8539444208145142\n",
            "Epoch 1700, Loss: 0.8538932800292969\n",
            "Epoch 1800, Loss: 0.8538404107093811\n",
            "Epoch 1900, Loss: 0.8537835478782654\n",
            "Epoch 2000, Loss: 0.8537216782569885\n",
            "Epoch 2100, Loss: 0.8536582589149475\n",
            "Epoch 2200, Loss: 0.853589653968811\n",
            "Epoch 2300, Loss: 0.853516161441803\n",
            "Epoch 2400, Loss: 0.8534390926361084\n",
            "Epoch 2500, Loss: 0.8533586859703064\n",
            "Epoch 2600, Loss: 0.853272020816803\n",
            "Epoch 2700, Loss: 0.8531820774078369\n",
            "Epoch 2800, Loss: 0.8530876040458679\n",
            "Epoch 2900, Loss: 0.8529873490333557\n",
            "Epoch 3000, Loss: 0.8528829216957092\n",
            "Epoch 3100, Loss: 0.8527737855911255\n",
            "Epoch 3200, Loss: 0.8526601195335388\n",
            "Epoch 3300, Loss: 0.852547824382782\n",
            "Epoch 3400, Loss: 0.8524372577667236\n",
            "Epoch 3500, Loss: 0.8523315787315369\n",
            "Epoch 3600, Loss: 0.8522380590438843\n",
            "Epoch 3700, Loss: 0.852142333984375\n",
            "Epoch 3800, Loss: 0.85204017162323\n",
            "Epoch 3900, Loss: 0.8519356846809387\n"
          ]
        },
        {
          "output_type": "display_data",
          "data": {
            "text/plain": [
              "<Figure size 640x480 with 1 Axes>"
            ],
            "image/png": "[encoded data removed]"
          },
          "metadata": {}
        }
      ]
    },
    {
      "cell_type": "code",
      "source": [
        "# Visualize results\n",
        "predicted = model(t_train).detach().numpy()\n",
        "plt.figure(figsize=(10, 6))\n",
        "plt.plot(data[:, 0], data[:, 1], label=\"True Trajectory\", linestyle='dotted', color='red')\n",
        "plt.plot(predicted[:, 0], predicted[:, 1], label=\"Predicted Trajectory\", linestyle='solid', color='blue')\n",
        "plt.xlabel(\"Horizontal Distance (x) [m]\")\n",
        "plt.ylabel(\"Vertical Distance (y) [m]\")\n",
        "plt.title(\"True vs Predicted Shuttlecock Trajectory\")\n",
        "plt.legend()\n",
        "plt.grid()\n",
        "plt.show()"
      ],
      "metadata": {
        "colab": {
          "base_uri": "https://localhost:8080/",
          "height": 564
        },
        "id": "XfDEoP8I2AoK",
        "outputId": "aad9015e-7f0c-4da0-a980-64e9f2b1c2a6"
      },
      "execution_count": 186,
      "outputs": [
        {
          "output_type": "display_data",
          "data": {
            "text/plain": [
              "<Figure size 1000x600 with 1 Axes>"
            ],
            "image/png": "[encoded data removed]"
          },
          "metadata": {}
        }
      ]
    },
    {
      "cell_type": "markdown",
      "metadata": {
        "id": "ysFO4GBD2loE"
      },
      "source": [
        "## **8.Evalution**\n",
        "### 1.RMSE"
      ]
    },
    {
      "cell_type": "code",
      "execution_count": 230,
      "metadata": {
        "id": "njcmw9jW2JoG",
        "colab": {
          "base_uri": "https://localhost:8080/"
        },
        "outputId": "1039f045-2564-4b2d-cb92-a5758b91c2bd"
      },
      "outputs": [
        {
          "output_type": "stream",
          "name": "stdout",
          "text": [
            "╒════════════════════════════════╤═════════╕\n",
            "│ Metric                         │   Value │\n",
            "╞════════════════════════════════╪═════════╡\n",
            "│ Mean Absolute Error (MAE)      │  0.7366 │\n",
            "├────────────────────────────────┼─────────┤\n",
            "│ Root Mean Squared Error (RMSE) │  0.901  │\n",
            "├────────────────────────────────┼─────────┤\n",
            "│ Accuracy (%)                   │  1      │\n",
            "├────────────────────────────────┼─────────┤\n",
            "│ False Positives (FP)           │  0      │\n",
            "├────────────────────────────────┼─────────┤\n",
            "│ False Negatives (FN)           │ 64      │\n",
            "├────────────────────────────────┼─────────┤\n",
            "│ Inference Latency (seconds)    │  0.0014 │\n",
            "╘════════════════════════════════╧═════════╛\n"
          ]
        }
      ],
      "source": [
        "import torch\n",
        "import time\n",
        "from tabulate import tabulate\n",
        "\n",
        "def evaluate_model(predictions, outputs_train):\n",
        "    \"\"\"\n",
        "    Evaluate the model's performance on metrics like MAE, RMSE, accuracy, FP, FN, and inference latency.\n",
        "\n",
        "    Args:\n",
        "    - predictions: The predicted outputs from the model (e.g., predicted positions).\n",
        "    - outputs_train: The true outputs (target trajectory values).\n",
        "\n",
        "    Returns:\n",
        "    - A string formatted as a beautiful table displaying the evaluation results.\n",
        "    \"\"\"\n",
        "    # Measure inference latency\n",
        "    start_time = time.time()\n",
        "\n",
        "    # Calculate Mean Absolute Error (MAE)\n",
        "    mae = torch.mean(torch.abs(predictions[:, :2] - outputs_train[:, :2])).item()\n",
        "\n",
        "    # Calculate Root Mean Squared Error (RMSE)\n",
        "    rmse = torch.sqrt(torch.mean((predictions[:, :2] - outputs_train[:, :2]) ** 2)).item()\n",
        "\n",
        "    # Calculate accuracy\n",
        "    correct = torch.sum(torch.all(torch.abs(predictions[:, :2] - outputs_train[:, :2]) < 0.1, dim=1)).item()\n",
        "    accuracy = correct / predictions.shape[0]\n",
        "\n",
        "    # Measure latency\n",
        "    latency = time.time() - start_time\n",
        "\n",
        "    # Compare the predicted and true values for FP and FN\n",
        "    threshold = 0.5  # Set your threshold for considering a positive detection\n",
        "    predicted_class = (predictions[:, :2] > threshold).int()  # Predicted values converted to binary based on threshold\n",
        "    true_class = (outputs_train[:, :2] > threshold).int()  # True values converted to binary based on threshold\n",
        "\n",
        "    # Calculate False Positives (FP) and False Negatives (FN)\n",
        "    false_positive = torch.sum((predicted_class == 1) & (true_class == 0)).item()\n",
        "    false_negative = torch.sum((predicted_class == 0) & (true_class == 1)).item()\n",
        "\n",
        "    # Prepare the result for display in a table\n",
        "    results = [\n",
        "        [\"Mean Absolute Error (MAE)\", round(mae, 4)],\n",
        "        [\"Root Mean Squared Error (RMSE)\", round(rmse, 4)],\n",
        "        [\"Accuracy (%)\", round(accuracy * 100, 2)],\n",
        "        [\"False Positives (FP)\", false_positive],\n",
        "        [\"False Negatives (FN)\", false_negative],\n",
        "        [\"Inference Latency (seconds)\", round(latency, 4)]\n",
        "    ]\n",
        "\n",
        "    # Format the results as a table\n",
        "    table = tabulate(results, headers=[\"Metric\", \"Value\"], tablefmt=\"fancy_grid\")\n",
        "\n",
        "    return table\n",
        "\n",
        "\n",
        "# Evaluate the model\n",
        "evaluation_table = evaluate_model(predictions, outputs_train)\n",
        "print(evaluation_table)\n"
      ]
    }
  ],
  "metadata": {
    "colab": {
      "provenance": []
    },
    "kernelspec": {
      "display_name": "Python 3 (ipykernel)",
      "language": "python",
      "name": "python3"
    },
    "language_info": {
      "codemirror_mode": {
        "name": "ipython",
        "version": 3
      },
      "file_extension": ".py",
      "mimetype": "text/x-python",
      "name": "python",
      "nbconvert_exporter": "python",
      "pygments_lexer": "ipython3",
      "version": "3.9.12"
    }
  },
  "nbformat": 4,
  "nbformat_minor": 0
}